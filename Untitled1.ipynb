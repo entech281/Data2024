{
 "cells": [
  {
   "cell_type": "code",
   "execution_count": 1,
   "id": "d5255be9-9891-455e-9e50-c854295008fc",
   "metadata": {},
   "outputs": [],
   "source": [
    "from enum import Enum, IntEnum"
   ]
  },
  {
   "cell_type": "code",
   "execution_count": 2,
   "id": "66c7ddf5-bf69-4e9d-9506-1a063afcc4e3",
   "metadata": {},
   "outputs": [],
   "source": [
    "class ClimbEnum(str, Enum):\n",
    "    success = 'Success'\n",
    "    failed = 'Failed'\n",
    "    notry = 'NoTry'"
   ]
  },
  {
   "cell_type": "code",
   "execution_count": 4,
   "id": "a0f3b966-01d4-44b4-ad9d-c0ae76a880cb",
   "metadata": {},
   "outputs": [
    {
     "data": {
      "text/plain": [
       "[<ClimbEnum.success: 'Success'>,\n",
       " <ClimbEnum.failed: 'Failed'>,\n",
       " <ClimbEnum.notry: 'NoTry'>]"
      ]
     },
     "execution_count": 4,
     "metadata": {},
     "output_type": "execute_result"
    }
   ],
   "source": [
    "list(ClimbEnum)"
   ]
  },
  {
   "cell_type": "code",
   "execution_count": 5,
   "id": "94a57ccb-0fad-4ff0-89fd-2ec7809aba03",
   "metadata": {},
   "outputs": [
    {
     "data": {
      "text/plain": [
       "<ClimbEnum.success: 'Success'>"
      ]
     },
     "execution_count": 5,
     "metadata": {},
     "output_type": "execute_result"
    }
   ],
   "source": [
    "ClimbEnum.success"
   ]
  },
  {
   "cell_type": "code",
   "execution_count": 6,
   "id": "77c94e24-ae67-495f-abc0-a9aebbe67c3b",
   "metadata": {},
   "outputs": [
    {
     "data": {
      "text/plain": [
       "'ClimbEnum.success'"
      ]
     },
     "execution_count": 6,
     "metadata": {},
     "output_type": "execute_result"
    }
   ],
   "source": [
    "str(ClimbEnum.success)"
   ]
  },
  {
   "cell_type": "code",
   "execution_count": 7,
   "id": "e8e3af9c-25dc-47cc-a4c3-b7c68eb112ae",
   "metadata": {},
   "outputs": [
    {
     "data": {
      "text/plain": [
       "['__class__',\n",
       " '__doc__',\n",
       " '__members__',\n",
       " '__module__',\n",
       " 'failed',\n",
       " 'notry',\n",
       " 'success']"
      ]
     },
     "execution_count": 7,
     "metadata": {},
     "output_type": "execute_result"
    }
   ],
   "source": [
    "dir(ClimbEnum)"
   ]
  },
  {
   "cell_type": "code",
   "execution_count": 8,
   "id": "27595e1a-8e6b-4662-8302-2057dc2e45c8",
   "metadata": {},
   "outputs": [
    {
     "data": {
      "text/plain": [
       "False"
      ]
     },
     "execution_count": 8,
     "metadata": {},
     "output_type": "execute_result"
    }
   ],
   "source": [
    "ClimbEnum.success == 'success'"
   ]
  },
  {
   "cell_type": "code",
   "execution_count": 9,
   "id": "d23f34cb-eee5-49b8-89ec-87465652e987",
   "metadata": {},
   "outputs": [
    {
     "data": {
      "text/plain": [
       "['__class__', '__doc__', '__members__', '__module__']"
      ]
     },
     "execution_count": 9,
     "metadata": {},
     "output_type": "execute_result"
    }
   ],
   "source": [
    "dir(Enum)\n"
   ]
  },
  {
   "cell_type": "code",
   "execution_count": null,
   "id": "94ff76d9-e25a-4589-ace7-e416157526eb",
   "metadata": {},
   "outputs": [],
   "source": []
  }
 ],
 "metadata": {
  "kernelspec": {
   "display_name": "Python 3 (ipykernel)",
   "language": "python",
   "name": "python3"
  },
  "language_info": {
   "codemirror_mode": {
    "name": "ipython",
    "version": 3
   },
   "file_extension": ".py",
   "mimetype": "text/x-python",
   "name": "python",
   "nbconvert_exporter": "python",
   "pygments_lexer": "ipython3",
   "version": "3.9.0"
  }
 },
 "nbformat": 4,
 "nbformat_minor": 5
}
