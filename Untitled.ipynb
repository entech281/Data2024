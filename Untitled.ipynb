{
 "cells": [
  {
   "cell_type": "code",
   "execution_count": 1,
   "id": "08dfcc46-66ee-4672-812f-101f332e8244",
   "metadata": {},
   "outputs": [],
   "source": [
    "import models\n",
    "import team_analysis"
   ]
  },
  {
   "cell_type": "code",
   "execution_count": 2,
   "id": "7e815795-d59d-477a-9f72-930bd1265717",
   "metadata": {},
   "outputs": [
    {
     "name": "stdout",
     "output_type": "stream",
     "text": [
      "Cols= ['tstamp', 'team_number', 'match_number', 'scouter_name', 'team_present', 'notes_speaker_auto', 'notes_amp_auto', 'speaker_subwoofer_completed_auto', 'speaker_subwoofer_attempted_auto', 'speaker_podium_completed_auto', 'speaker_podium_attempted_auto', 'speaker_medium_completed_auto', 'speaker_medium_attempted_auto', 'speaker_midfield_completed_auto', 'speaker_midfield_attempted_auto', 'alliance_coop', 'robot_disabled_time', 'robot_speed', 'notes_speaker_teleop', 'notes_amp_teleop', 'speaker_subwoofer_completed_teleop', 'speaker_subwoofer_attempted_teleop', 'speaker_podium_completed_teleop', 'speaker_podium_attempted_teleop', 'speaker_medium_completed_teleop', 'speaker_medium_attempted_teleop', 'speaker_midfield_completed_teleop', 'speaker_midfield_attempted_teleop', 'park', 'climb', 'high_note', 'penalties', 'rps', 'mobility', 'fouls', 'defense_rating', 'defense_forced_penalties', 'notes']\n"
     ]
    }
   ],
   "source": [
    "df = models.get_match_data()"
   ]
  },
  {
   "cell_type": "code",
   "execution_count": 3,
   "id": "548c38ba-5fa6-4f5e-af50-0fa34328c787",
   "metadata": {},
   "outputs": [
    {
     "data": {
      "text/html": [
       "<div>\n",
       "<style scoped>\n",
       "    .dataframe tbody tr th:only-of-type {\n",
       "        vertical-align: middle;\n",
       "    }\n",
       "\n",
       "    .dataframe tbody tr th {\n",
       "        vertical-align: top;\n",
       "    }\n",
       "\n",
       "    .dataframe thead th {\n",
       "        text-align: right;\n",
       "    }\n",
       "</style>\n",
       "<table border=\"1\" class=\"dataframe\">\n",
       "  <thead>\n",
       "    <tr style=\"text-align: right;\">\n",
       "      <th></th>\n",
       "      <th>tstamp</th>\n",
       "      <th>team_number</th>\n",
       "      <th>match_number</th>\n",
       "      <th>scouter_name</th>\n",
       "      <th>team_present</th>\n",
       "      <th>notes_speaker_auto</th>\n",
       "      <th>notes_amp_auto</th>\n",
       "      <th>speaker_subwoofer_completed_auto</th>\n",
       "      <th>speaker_subwoofer_attempted_auto</th>\n",
       "      <th>speaker_podium_completed_auto</th>\n",
       "      <th>...</th>\n",
       "      <th>park</th>\n",
       "      <th>climb</th>\n",
       "      <th>high_note</th>\n",
       "      <th>penalties</th>\n",
       "      <th>rps</th>\n",
       "      <th>mobility</th>\n",
       "      <th>fouls</th>\n",
       "      <th>defense_rating</th>\n",
       "      <th>defense_forced_penalties</th>\n",
       "      <th>notes</th>\n",
       "    </tr>\n",
       "  </thead>\n",
       "  <tbody>\n",
       "    <tr>\n",
       "      <th>0</th>\n",
       "      <td>1.710475e+09</td>\n",
       "      <td>281</td>\n",
       "      <td>Q1</td>\n",
       "      <td></td>\n",
       "      <td>False</td>\n",
       "      <td>0</td>\n",
       "      <td>0</td>\n",
       "      <td>0</td>\n",
       "      <td>0</td>\n",
       "      <td>0</td>\n",
       "      <td>...</td>\n",
       "      <td>False</td>\n",
       "      <td>False</td>\n",
       "      <td>False</td>\n",
       "      <td>0</td>\n",
       "      <td>0</td>\n",
       "      <td>False</td>\n",
       "      <td>0</td>\n",
       "      <td>0</td>\n",
       "      <td>0</td>\n",
       "      <td></td>\n",
       "    </tr>\n",
       "    <tr>\n",
       "      <th>1</th>\n",
       "      <td>1.710475e+09</td>\n",
       "      <td>281</td>\n",
       "      <td>Q1</td>\n",
       "      <td>Dave</td>\n",
       "      <td>True</td>\n",
       "      <td>0</td>\n",
       "      <td>0</td>\n",
       "      <td>1</td>\n",
       "      <td>1</td>\n",
       "      <td>1</td>\n",
       "      <td>...</td>\n",
       "      <td>True</td>\n",
       "      <td>True</td>\n",
       "      <td>False</td>\n",
       "      <td>1</td>\n",
       "      <td>1</td>\n",
       "      <td>True</td>\n",
       "      <td>1</td>\n",
       "      <td>2</td>\n",
       "      <td>0</td>\n",
       "      <td>sfdsdfafd</td>\n",
       "    </tr>\n",
       "  </tbody>\n",
       "</table>\n",
       "<p>2 rows × 38 columns</p>\n",
       "</div>"
      ],
      "text/plain": [
       "         tstamp  team_number match_number scouter_name  team_present  \\\n",
       "0  1.710475e+09          281           Q1                      False   \n",
       "1  1.710475e+09          281           Q1         Dave          True   \n",
       "\n",
       "   notes_speaker_auto  notes_amp_auto  speaker_subwoofer_completed_auto  \\\n",
       "0                   0               0                                 0   \n",
       "1                   0               0                                 1   \n",
       "\n",
       "   speaker_subwoofer_attempted_auto  speaker_podium_completed_auto  ...  \\\n",
       "0                                 0                              0  ...   \n",
       "1                                 1                              1  ...   \n",
       "\n",
       "    park  climb  high_note  penalties  rps  mobility  fouls  defense_rating  \\\n",
       "0  False  False      False          0    0     False      0               0   \n",
       "1   True   True      False          1    1      True      1               2   \n",
       "\n",
       "   defense_forced_penalties      notes  \n",
       "0                         0             \n",
       "1                         0  sfdsdfafd  \n",
       "\n",
       "[2 rows x 38 columns]"
      ]
     },
     "execution_count": 3,
     "metadata": {},
     "output_type": "execute_result"
    }
   ],
   "source": [
    "df"
   ]
  },
  {
   "cell_type": "code",
   "execution_count": null,
   "id": "4cc6f14f-36f5-49d0-92fe-edc2cc42b757",
   "metadata": {},
   "outputs": [],
   "source": [
    "(s,a ) = team_analysis."
   ]
  }
 ],
 "metadata": {
  "kernelspec": {
   "display_name": "Python 3 (ipykernel)",
   "language": "python",
   "name": "python3"
  },
  "language_info": {
   "codemirror_mode": {
    "name": "ipython",
    "version": 3
   },
   "file_extension": ".py",
   "mimetype": "text/x-python",
   "name": "python",
   "nbconvert_exporter": "python",
   "pygments_lexer": "ipython3",
   "version": "3.9.0"
  }
 },
 "nbformat": 4,
 "nbformat_minor": 5
}
